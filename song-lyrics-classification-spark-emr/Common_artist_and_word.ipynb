{
 "cells": [
  {
   "cell_type": "code",
   "execution_count": null,
   "metadata": {
    "collapsed": false
   },
   "outputs": [],
   "source": [
    "#MOST COMMON WORDS BY ARTISTS\n",
    "\n",
    "from collections import Counter\n",
    "#Counter(words).most_common(10)\n",
    "rdd = sc.textFile(\"cleanedsongdata.csv\")"
   ]
  },
  {
   "cell_type": "code",
   "execution_count": null,
   "metadata": {
    "collapsed": false
   },
   "outputs": [],
   "source": [
    "wordlist = rdd.map(lambda x: (x.split(\",\")[1], (x.split(\",\")[3]).split(\" \")))\n",
    "word_byartist = wordlist.groupByKey()\n",
    "\n",
    "#print result\n",
    "#for i in word_byartist.collect()[1:10]:\n",
    "#    print i[0]\n",
    "#    for j in i[1]:\n",
    "#        print j"
   ]
  },
  {
   "cell_type": "code",
   "execution_count": null,
   "metadata": {
    "collapsed": false
   },
   "outputs": [],
   "source": [
    "word_byartist_merge = word_byartist.mapValues(lambda l: [item for sublist in l for item in sublist])\n",
    "\n",
    "#print result\n",
    "#word_byartist_merge.collect()[1:10]"
   ]
  },
  {
   "cell_type": "code",
   "execution_count": null,
   "metadata": {
    "collapsed": false
   },
   "outputs": [],
   "source": [
    "common_20_word = word_byartist_merge.mapValues(lambda l: Counter(l).most_common(20))\n",
    "\n",
    "#print 10 artists' 20 top words\n",
    "common_20_word.collect()[1:10]"
   ]
  },
  {
   "cell_type": "code",
   "execution_count": null,
   "metadata": {
    "collapsed": false
   },
   "outputs": [],
   "source": [
    "#MOST COMMON ARTISTS\n",
    "\n",
    "artist = rdd.map(lambda x: (x.split(\",\")[1], 1))\n",
    "artist_count = artist.reduceByKey(lambda x,y: x+y)\n",
    "most_common_artist = artist_count.sortBy(lambda x: x[1], ascending = False).take(20)\n",
    "most_common_artist"
   ]
  },
  {
   "cell_type": "code",
   "execution_count": null,
   "metadata": {
    "collapsed": true
   },
   "outputs": [],
   "source": []
  },
  {
   "cell_type": "markdown",
   "metadata": {},
   "source": []
  }
 ],
 "metadata": {
  "anaconda-cloud": {},
  "kernelspec": {
   "display_name": "Python [default]",
   "language": "python",
   "name": "python2"
  },
  "language_info": {
   "codemirror_mode": {
    "name": "ipython",
    "version": 2
   },
   "file_extension": ".py",
   "mimetype": "text/x-python",
   "name": "python",
   "nbconvert_exporter": "python",
   "pygments_lexer": "ipython2",
   "version": "2.7.12"
  }
 },
 "nbformat": 4,
 "nbformat_minor": 1
}
